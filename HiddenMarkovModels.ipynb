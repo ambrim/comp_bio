{
  "nbformat": 4,
  "nbformat_minor": 0,
  "metadata": {
    "colab": {
      "provenance": []
    },
    "kernelspec": {
      "name": "python3",
      "display_name": "Python 3"
    },
    "language_info": {
      "name": "python"
    }
  },
  "cells": [
    {
      "cell_type": "markdown",
      "source": [
        "# Introduction - HMM for *-Seq"
      ],
      "metadata": {
        "id": "ac3EiOzwaxnN"
      }
    },
    {
      "cell_type": "markdown",
      "source": [
        "In this problem, you will implement the Viterbi algorithm and apply it to a synthetic *-Seq dataset. Import the required packages to get started."
      ],
      "metadata": {
        "id": "LtqKiwMISy0r"
      }
    },
    {
      "cell_type": "code",
      "source": [
        "import numpy as np\n",
        "from scipy.stats import poisson\n",
        "import pickle"
      ],
      "metadata": {
        "id": "BKLiIKaMlUgb"
      },
      "execution_count": null,
      "outputs": []
    },
    {
      "cell_type": "markdown",
      "source": [
        "# 1 - The Viterbi Algorithm\n",
        "\n",
        "Consider a Hidden Markov Model $(Q, A, 𝛴, E)$, consisting of:\n",
        "* Set $Q = \\{q_1, q_2, ..., q_s\\}$ of possible hidden states\n",
        "* Matrix $A$, where $a_{ij}$ is the transition probability from $q_i$ to $q_j$\n",
        "* Set $𝛴 = \\{σ_1, σ_2, ..., σ_r\\}$ of possible observed states\n",
        "* Matrix $E$, where $e_{ik}$ is probability of emiting symbol $σ_k$ from hidden state $q_i$\n",
        "\n",
        "Given a sequence of observations $\\mathbf{x} = x_1...x_n$, the Viterbi algorithm outputs the most likely sequence of hidden states $\\mathbf{\\pi^*}=\\pi^*_1..\\pi^*_n = arg\\max_\\pi P(x, \\pi)$.\n",
        "\n",
        "In this section, you will implement the Viterbi algorithm. \n",
        "Carefully read the function comment and **fill in the TODOs**.\n",
        "\n",
        "Note that instead of an emission matrix, we use an emission function. That is, the probability of emiting symbol $σ_k$ from hidden state $q_i$ will be the result of evaluating emit_fn($q_i$, $σ_k$) in the function below.\n",
        "\n",
        "Your implementation should use **not** take products of probabilities but rather use **sums of log probabilities**. \n"
      ],
      "metadata": {
        "id": "8NKsMak3bS5r"
      }
    },
    {
      "cell_type": "code",
      "source": [
        "'''\n",
        "Performs Viterbi algorithm and returns a list containing most likely sequence \n",
        "of hidden states.\n",
        "\n",
        "Parameters:\n",
        "- Q: A list of hidden states, e.g. ['Fair', 'Biased'] for the coin example \n",
        "     in lecture\n",
        "- trans_p: A numpy matrix of transition probabilities\n",
        "- emit_fn: A function that takes in a hidden state index and observation, and \n",
        "           outputs the probability of that emission\n",
        "- obs: A list of observations\n",
        "\n",
        "Returns:\n",
        "- best_path: A list of hidden states, with values from Q\n",
        "'''\n",
        "def viterbi(Q, trans_p, emit_fn, obs):\n",
        "  T = np.zeros((len(Q), len(obs)))\n",
        "  pointers = np.zeros((len(Q), len(obs)), dtype=int)\n",
        "\n",
        "  # Initialize T with uniform start state\n",
        "  for k in range(len(Q)):\n",
        "    T[k, 0] = np.log((1/len(Q))) + np.log(emit_fn(k, obs[0]))\n",
        "\n",
        "  # Populate T and pointers\n",
        "  for t in range(len(obs)):\n",
        "      for i in range(len(Q)):\n",
        "          # Compute probability of each state transition\n",
        "          probs = [T[j, t-1] + np.log(trans_p[i, j]) + np.log(emit_fn(j, obs[t])) for j in range(len(Q))]\n",
        "          # Get index of most probable transition\n",
        "          max_idx = np.argmax(probs)\n",
        "          pointers[i, t] = max_idx\n",
        "          T[i, t] = probs[max_idx]\n",
        "          # Add probability of current emission\n",
        "          # T[i, t] += emit_fn(i, obs[t])\n",
        "\n",
        "  # Backtrack to find best_path\n",
        "  best_path = np.zeros(len(obs), dtype=int)\n",
        "  best_path[-1] = np.argmax(T[:, -1])\n",
        "  for i in range(len(best_path) - 2, 0, -1):\n",
        "    best_path[i] = pointers[best_path[i+1], i]\n",
        "\n",
        "  best_path = [Q[i] for i in best_path]\n",
        "\n",
        "  return best_path\n"
      ],
      "metadata": {
        "id": "EF_jTcM5atm0"
      },
      "execution_count": null,
      "outputs": []
    },
    {
      "cell_type": "code",
      "source": [],
      "metadata": {
        "id": "fesVauRPW-9t"
      },
      "execution_count": null,
      "outputs": []
    },
    {
      "cell_type": "markdown",
      "source": [
        "# 2 - Viterbi on *-Seq Data"
      ],
      "metadata": {
        "id": "25jfzFO3a1yS"
      }
    },
    {
      "cell_type": "markdown",
      "source": [
        "Recall that in an HMM for *-Seq data, the observed states are the read counts and the hidden states are whether a genome position is a peak or non-peak. We have created a synthetic dataset of *-Seq data using a mixture of Poission distributions, as discussed in lecture. This data will be used to test your code."
      ],
      "metadata": {
        "id": "KwrxNbS2TlkO"
      }
    },
    {
      "cell_type": "markdown",
      "source": [
        "First we import the data. It can be downloaded from `COS343_Spring2023_Public/Homeworks/Datasets/HW5P1_observations.pkl`. Once downloaded, you need to move the two files into your own Google Drive. Then, after executing `drive.mount('/content/drive')`, files in your Google Drive will be present in `/content/drive/MyDrive` and can be accessed by providing the path to them in your Drive.\n",
        "\n",
        "Modify the path of `data` below to match the path to the data file in your own Drive."
      ],
      "metadata": {
        "id": "yInv4K13UawJ"
      }
    },
    {
      "cell_type": "code",
      "source": [
        "from google.colab import drive\n",
        "drive.mount('/content/drive')"
      ],
      "metadata": {
        "id": "S-iX1ro_nVuk",
        "colab": {
          "base_uri": "https://localhost:8080/"
        },
        "outputId": "8caf8618-6ed0-4ab8-9f19-13a68516cfe0"
      },
      "execution_count": null,
      "outputs": [
        {
          "output_type": "stream",
          "name": "stdout",
          "text": [
            "Mounted at /content/drive\n"
          ]
        }
      ]
    },
    {
      "cell_type": "code",
      "source": [
        "with open(\"/content/drive/MyDrive/spring23/HW5P1_observations.pkl\", \"rb\") as f:\n",
        "  data = pickle.load(f)\n",
        "obs = data['obs'] # observed read counts\n",
        "ref_best_path = data['path']"
      ],
      "metadata": {
        "id": "dlYKIQb6U2Bn"
      },
      "execution_count": null,
      "outputs": []
    },
    {
      "cell_type": "markdown",
      "source": [
        "**Plot the distribution of observed read counts.** You may use [plt.hist](https://matplotlib.org/stable/api/_as_gen/matplotlib.pyplot.hist.html) for this. Do you see a mixture of Poisson distributions? Yes, there is a mixture of 2 Poisson distributions at $\\lambda_1 \\approx 80, \\lambda_2 \\approx 120$."
      ],
      "metadata": {
        "id": "dwPb4wDP3kdk"
      }
    },
    {
      "cell_type": "code",
      "source": [
        "import matplotlib.pyplot as plt\n",
        "## TODO ##\n",
        "plt.hist(obs, bins=50)\n",
        "plt.xlabel('Observed read counts')\n",
        "plt.ylabel('Frequency')\n",
        "plt.show()"
      ],
      "metadata": {
        "id": "9F6k02Pz5SQP",
        "colab": {
          "base_uri": "https://localhost:8080/",
          "height": 449
        },
        "outputId": "9446ca1e-1761-44fc-80d7-21951202acdd"
      },
      "execution_count": null,
      "outputs": [
        {
          "output_type": "display_data",
          "data": {
            "text/plain": [
              "<Figure size 640x480 with 1 Axes>"
            ],
            "image/png": "[encoded data removed]"
          },
          "metadata": {}
        }
      ]
    },
    {
      "cell_type": "markdown",
      "source": [
        "Next, run the following two cells to check that the output of your Viterbi implementation is correct."
      ],
      "metadata": {
        "id": "pHQ_Gh7sU4o2"
      }
    },
    {
      "cell_type": "code",
      "source": [
        "# Given a hidden state index and observation, outputs a probability\n",
        "def peak_emit(hidden, obs):\n",
        "  if hidden==0:\n",
        "    return poisson.pmf(obs, 120)\n",
        "  elif hidden==1:\n",
        "    return poisson.pmf(obs, 80)\n",
        "  else:\n",
        "    raise ValueError(\"Invalid hidden state\")"
      ],
      "metadata": {
        "id": "S0UCaIKyMHx-"
      },
      "execution_count": null,
      "outputs": []
    },
    {
      "cell_type": "code",
      "source": [
        "Q = ['peak', 'nonpeak']\n",
        "trans_p = np.array([[0.7, 0.3], [0.2, 0.8]])\n",
        "best_path = viterbi(Q, trans_p, peak_emit, obs)\n",
        "assert best_path == ref_best_path"
      ],
      "metadata": {
        "id": "TKASmmdtP2g0"
      },
      "execution_count": null,
      "outputs": []
    },
    {
      "cell_type": "markdown",
      "source": [
        "# (BONUS: 10pts) 3 - The Forward-Backward Algorithm\n",
        "\n",
        "Given a sequence of observations $\\mathbf{x} = x_1...x_n$, the forward-backward algorithm outputs the marginal probabilities $P(\\pi_i=q|\\mathbf{x})$ that hidden state was $q$ at each timestep $i$.\n",
        "\n",
        "In this section, you will implement the forward-backward algorithm. Carefully read the function comment and fill in the TODOs. You may come up with your own simple test case or use one from lecture."
      ],
      "metadata": {
        "id": "iYU2Og_1bBYw"
      }
    },
    {
      "cell_type": "code",
      "source": [
        "'''\n",
        "Performs forward-backward algorithm and returns posterior probabiltities\n",
        "\n",
        "Parameters:\n",
        "- Q: A list of hidden states, e.g. ['Fair', 'Biased'] for the coin example \n",
        "     in lecture\n",
        "- trans_p: A numpy matrix of transition probabilities\n",
        "- emit_p: A numpy matrix of emission probabilities\n",
        "- obs: A list of observations, converted to integer indices. For example, if the\n",
        "       possible observed states are [\"Heads\", \"Tails\"] and the observations are\n",
        "       [\"Tails\", \"Tails\", \"Heads\"], obs is passed in as [1, 1, 0]\n",
        "\n",
        "Returns:\n",
        "- posterior: a |Q|x|obs| matrix of marginal probabilities\n",
        "'''\n",
        "def forward_backward(Q, trans_p, emit_p, obs):\n",
        "  T_fwd = np.zeros((len(Q), len(obs)))\n",
        "  T_bwd = np.zeros((len(Q), len(obs)))\n",
        "\n",
        "  ## TODO ##\n",
        "\n",
        "  # Step 1: Calculate the forward probabilities\n",
        "  T_fwd[:, 0] = emit_p[:, obs[0]] / len(Q)\n",
        "  for i in range(1, len(obs)):\n",
        "      for j in range(len(Q)):\n",
        "          T_fwd[j, i] = emit_p[j, obs[i]] * np.sum(T_fwd[:, i-1] * trans_p[:, j])\n",
        "      T_fwd[:, i] /= np.sum(T_fwd[:, i])\n",
        "\n",
        "  # Step 2: Calculate the backward probabilities\n",
        "  T_bwd[:, -1] = 1\n",
        "  for i in range(len(obs)-2, -1, -1):\n",
        "      for j in range(len(Q)):\n",
        "          T_bwd[j, i] = np.sum(emit_p[:, obs[i+1]] * T_bwd[:, i+1] * trans_p[j, :])\n",
        "      T_bwd[:, i] /= np.sum(T_bwd[:, i])\n",
        "\n",
        "  # Step 3: Combine forward and backward probabilities to obtain the posterior probabilities\n",
        "  posterior = T_fwd * T_bwd\n",
        "  posterior /= np.sum(posterior, axis=0)\n",
        "\n",
        "  return posterior\n",
        "\n"
      ],
      "metadata": {
        "id": "IMJnay-bcy_X"
      },
      "execution_count": null,
      "outputs": []
    },
    {
      "cell_type": "code",
      "source": [
        "Q = ['F', 'B']\n",
        "trans_p = np.array([[0.9, 0.1], [0.1, 0.9]])\n",
        "emit_p = np.array([[0.5, 0.5], [0.25, 0.75]])\n",
        "sigma = {'T': 0, 'H': 1}\n",
        "\n",
        "x = ['T', 'H', 'T', 'H', 'H', 'H', 'T', 'H', 'T', 'T', 'H']\n",
        "x = [sigma[xi] for xi in x]\n",
        "\n",
        "posterior = forward_backward(Q, trans_p, emit_p, x)\n",
        "\n",
        "true_posterior = np.array([[0.63574262, 0.59293879, 0.6004579, 0.53251141, 0.51509767, 0.54440741, 0.62685215, 0.633197, 0.69236854, 0.68567714, 0.6094007], \n",
        "                           [0.36425738, 0.40706121, 0.3995421, 0.46748859, 0.48490233, 0.45559259, 0.37314785, 0.366803, 0.30763146, 0.31432286, 0.3905993]])\n",
        "assert np.allclose(posterior, true_posterior)"
      ],
      "metadata": {
        "id": "DymSccJcSNYk"
      },
      "execution_count": null,
      "outputs": []
    }
  ]
}